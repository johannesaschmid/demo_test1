{
    "cells": [
        {
            "metadata": {
                "collapsed": true
            },
            "cell_type": "markdown",
            "source": "# Data Science Tools and Ecosystem"
        },
        {
            "metadata": {},
            "cell_type": "markdown",
            "source": "In this notebook, Data Science Tools and Ecosystem are summarized."
        },
        {
            "metadata": {},
            "cell_type": "markdown",
            "source": "**Objectives:**\n* List popular languages for Data Science\n\n* List popular libraries for Data Science\n\n* List popular open source development environments for Data Science\n\n* Evaluate algorithmic expressions"
        },
        {
            "metadata": {},
            "cell_type": "markdown",
            "source": "Some of the popular languages that Data Scientists use are:\n1. Python\n2. R\n3. SQL\n4. Java\n5. Scala\n6. C++\n7. Julia"
        },
        {
            "metadata": {},
            "cell_type": "markdown",
            "source": "Some of the commonly used libraries used by Data Scientists include:\n1. Pandas\n2. Numpy\n3. Scikit-learn\n4. TensorFlow\n5. PyTorch"
        },
        {
            "metadata": {},
            "cell_type": "markdown",
            "source": "| Data Science Tools |\n| :-: |\n|JupyterNotebook|\n| JupyterLab |\n| RStudio |"
        },
        {
            "metadata": {},
            "cell_type": "markdown",
            "source": "### Below are a few examples of evaluating arithmetic expressions in Python:\n"
        },
        {
            "metadata": {},
            "cell_type": "code",
            "source": "# This a simple arithmetic expression to mutiply then add integers\n(3*4)+5",
            "execution_count": 2,
            "outputs": [
                {
                    "output_type": "execute_result",
                    "execution_count": 2,
                    "data": {
                        "text/plain": "17"
                    },
                    "metadata": {}
                }
            ]
        },
        {
            "metadata": {},
            "cell_type": "code",
            "source": "# This will convert 200 minutes to hours by diving by 60\nnumber_of_minutes = 200\nnumber_of_hours = number_of_minutes/60\nnumber_of_hours",
            "execution_count": 6,
            "outputs": [
                {
                    "output_type": "execute_result",
                    "execution_count": 6,
                    "data": {
                        "text/plain": "3.3333333333333335"
                    },
                    "metadata": {}
                }
            ]
        },
        {
            "metadata": {},
            "cell_type": "markdown",
            "source": "## Author\nJohannes Schmid"
        }
    ],
    "metadata": {
        "kernelspec": {
            "name": "python3",
            "display_name": "Python 3.10",
            "language": "python"
        },
        "language_info": {
            "name": "python",
            "version": "3.10.9",
            "mimetype": "text/x-python",
            "codemirror_mode": {
                "name": "ipython",
                "version": 3
            },
            "pygments_lexer": "ipython3",
            "nbconvert_exporter": "python",
            "file_extension": ".py"
        }
    },
    "nbformat": 4,
    "nbformat_minor": 1
}